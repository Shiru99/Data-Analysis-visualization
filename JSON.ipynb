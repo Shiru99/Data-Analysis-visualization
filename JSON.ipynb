{
 "cells": [
  {
   "cell_type": "code",
   "execution_count": 20,
   "metadata": {},
   "outputs": [],
   "source": [
    "import json"
   ]
  },
  {
   "cell_type": "code",
   "execution_count": 21,
   "metadata": {},
   "outputs": [],
   "source": [
    "# NO comments in json file &&& only \"\" not ''"
   ]
  },
  {
   "cell_type": "code",
   "execution_count": 28,
   "metadata": {},
   "outputs": [
    {
     "data": {
      "text/plain": [
       "{'a': 1, 'b': 2, 'c': 3}"
      ]
     },
     "execution_count": 28,
     "metadata": {},
     "output_type": "execute_result"
    }
   ],
   "source": [
    "json_data = '{\"a\":1,\"b\":2,\"c\":3}'\n",
    "# \n",
    "x=json.loads(json_data)\n",
    "x"
   ]
  },
  {
   "cell_type": "code",
   "execution_count": 29,
   "metadata": {},
   "outputs": [
    {
     "data": {
      "text/plain": [
       "3"
      ]
     },
     "execution_count": 29,
     "metadata": {},
     "output_type": "execute_result"
    }
   ],
   "source": [
    "x['c']"
   ]
  },
  {
   "cell_type": "code",
   "execution_count": 32,
   "metadata": {},
   "outputs": [],
   "source": [
    "json_data11 = \"\"\"\n",
    "\n",
    "{\n",
    "  \"params\":\n",
    "  {\n",
    "    \"local_server\":\"True\",\n",
    "    \"local_uri\": \"mysql://root:@localhost/codingthunder\",\n",
    "    \"prod_uri\":\"mysql://root:@localhost/codingthunder\",\n",
    "    \"fb_url\":\"https://facebook.com/codingthunder\",\n",
    "    \"tw_url\":\"https://twitter.com/codingthunder\",\n",
    "    \"gh_url\": \"https://github.com/codingthunder\",\n",
    "    \"blog_name\": \"Coding Thunder\",\n",
    "    \"tag_line\": \"Heaven for programmers\",\n",
    "    \"gmail-user\":\"your-email@gmail.com\",\n",
    "    \"gmail-password\":\"gmailpassword\",\n",
    "    \"about_text\": \"Hi my name is harry and I create programming tutorials and I am a good boy\",\n",
    "    \"no_of_posts\": 3,\n",
    "    \"login_image\":\"login.svg\",\n",
    "    \"admin_user\":\"harry\",\n",
    "    \"admin_password\": \"subscribenow\"\n",
    "\n",
    "  }\n",
    "\n",
    "}\n",
    "\"\"\"\n"
   ]
  },
  {
   "cell_type": "code",
   "execution_count": 33,
   "metadata": {},
   "outputs": [
    {
     "data": {
      "text/plain": [
       "{'local_server': 'True',\n",
       " 'local_uri': 'mysql://root:@localhost/codingthunder',\n",
       " 'prod_uri': 'mysql://root:@localhost/codingthunder',\n",
       " 'fb_url': 'https://facebook.com/codingthunder',\n",
       " 'tw_url': 'https://twitter.com/codingthunder',\n",
       " 'gh_url': 'https://github.com/codingthunder',\n",
       " 'blog_name': 'Coding Thunder',\n",
       " 'tag_line': 'Heaven for programmers',\n",
       " 'gmail-user': 'your-email@gmail.com',\n",
       " 'gmail-password': 'gmailpassword',\n",
       " 'about_text': 'Hi my name is harry and I create programming tutorials and I am a good boy',\n",
       " 'no_of_posts': 3,\n",
       " 'login_image': 'login.svg',\n",
       " 'admin_user': 'harry',\n",
       " 'admin_password': 'subscribenow'}"
      ]
     },
     "execution_count": 33,
     "metadata": {},
     "output_type": "execute_result"
    }
   ],
   "source": [
    "data = json.loads(json_data11)\n",
    "data['params']"
   ]
  },
  {
   "cell_type": "markdown",
   "metadata": {},
   "source": [
    "### write json"
   ]
  },
  {
   "cell_type": "code",
   "execution_count": 34,
   "metadata": {},
   "outputs": [],
   "source": [
    "with open('1.json','w') as f:\n",
    "    json.dump(data,f)                       # creates json file"
   ]
  },
  {
   "cell_type": "markdown",
   "metadata": {},
   "source": [
    "### read json"
   ]
  },
  {
   "cell_type": "code",
   "execution_count": 36,
   "metadata": {},
   "outputs": [
    {
     "data": {
      "text/plain": [
       "{'params': {'local_server': 'True',\n",
       "  'local_uri': 'mysql://root:@localhost/codingthunder',\n",
       "  'prod_uri': 'mysql://root:@localhost/codingthunder',\n",
       "  'fb_url': 'https://facebook.com/codingthunder',\n",
       "  'tw_url': 'https://twitter.com/codingthunder',\n",
       "  'gh_url': 'https://github.com/codingthunder',\n",
       "  'blog_name': 'Coding Thunder',\n",
       "  'tag_line': 'Heaven for programmers',\n",
       "  'gmail-user': 'your-email@gmail.com',\n",
       "  'gmail-password': 'gmailpassword',\n",
       "  'about_text': 'Hi my name is harry and I create programming tutorials and I am a good boy',\n",
       "  'no_of_posts': 3,\n",
       "  'login_image': 'login.svg',\n",
       "  'admin_user': 'harry',\n",
       "  'admin_password': 'subscribenow'}}"
      ]
     },
     "execution_count": 36,
     "metadata": {},
     "output_type": "execute_result"
    }
   ],
   "source": [
    "with open('1.json','r') as f:\n",
    "    data1 = json.load(f)\n",
    "\n",
    "data1"
   ]
  },
  {
   "cell_type": "code",
   "execution_count": null,
   "metadata": {},
   "outputs": [],
   "source": []
  }
 ],
 "metadata": {
  "kernelspec": {
   "display_name": "Python 3.7.6 64-bit ('base': conda)",
   "language": "python",
   "name": "python37664bitbaseconda7b891e733012416988b91755aba8cd08"
  },
  "language_info": {
   "codemirror_mode": {
    "name": "ipython",
    "version": 3
   },
   "file_extension": ".py",
   "mimetype": "text/x-python",
   "name": "python",
   "nbconvert_exporter": "python",
   "pygments_lexer": "ipython3",
   "version": "3.7.6"
  }
 },
 "nbformat": 4,
 "nbformat_minor": 4
}
